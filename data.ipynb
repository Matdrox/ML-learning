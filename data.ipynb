{
 "cells": [
  {
   "attachments": {},
   "cell_type": "markdown",
   "metadata": {},
   "source": [
    "### Learning\n",
    "* Supervised Learning: uses labeled inputs to train models and learn outputs\n",
    "* Unsupervised Learning: uses patterns from inputs to learn outputs\n",
    "* Reinforcement Learning: agent learning in an interactive environment based on rewards and penalties\n",
    "\n",
    "### Features\n",
    "* Qualitative: finite number of categories of groups\n",
    "\t* Nominal Data: categorical data without order, e.g. genders or countries\n",
    "\t* Ordinal Data: categorical data with order, e.g. ages or moods\n",
    "\n",
    "* Quantitative Data: numerically valued data (discrete or contiuous), e.g. height or cats owned\n",
    "\n",
    "* One-hot Encoding: '1' if value matches category\n",
    "\n",
    "### Output\n",
    "* Supervised\n",
    "\t* Classification: predict discrete classes\n",
    "\t\t* Multiclass: output the exact class, e.g. cat or dog or horse, plant species, types of fruit\n",
    "\t\t* Binary: output Boolean, e.g. cat or NOT cat, positive or negative, spam or NOT spam\n",
    "\t\t\n",
    "\t* Regression: predict continuous values, e.g. Apple stock, weather, the market\n",
    "\n",
    "### Model\n",
    "* Training: create prediction vector from model, calculate loss between prediction and true values, make adjustments\n",
    "* Validation: reality check during/after training to ensure model can handle unseen data\n",
    "* Testing: checks how generalizable the final chosen model is \n",
    "\n",
    "* Loss: the closer the prediction is to the true value, the smaller the loss\n",
    "\t* L1 Loss: loss = sum(|y_real - y_predicted|)\n",
    "\t* L2 Loss: loss = sum((y_real - y_predicted) ** 2)\n",
    "\t* Binary Cross-Entropy Loss: loss = -1/N * sum(y_real * log(y_predicted) + (1-y_real) * log((1-y_predicted)))"
   ]
  }
 ],
 "metadata": {
  "kernelspec": {
   "display_name": "Python 3",
   "language": "python",
   "name": "python3"
  },
  "language_info": {
   "name": "python",
   "version": "3.9.5 (tags/v3.9.5:0a7dcbd, May  3 2021, 17:27:52) [MSC v.1928 64 bit (AMD64)]"
  },
  "orig_nbformat": 4,
  "vscode": {
   "interpreter": {
    "hash": "e450050b432e843bda3c41bf3272c133bfc370a7003f3e377e27f87a49ce1127"
   }
  }
 },
 "nbformat": 4,
 "nbformat_minor": 2
}
